{
 "cells": [
  {
   "cell_type": "code",
   "execution_count": 9,
   "metadata": {},
   "outputs": [],
   "source": [
    "import sympy as sympy\n",
    "import numpy as np\n",
    "import matplotlib.pyplot as plt\n",
    "from sympy import Matrix\n",
    "from scipy import *"
   ]
  },
  {
   "cell_type": "code",
   "execution_count": 10,
   "metadata": {},
   "outputs": [],
   "source": [
    "# Create a vector\n",
    "myVector = np.array([1,2,3,4])\n",
    "\n",
    "# Create a matrix\n",
    "myMatrix = np.matrix(np.random.random((5,5)))"
   ]
  },
  {
   "cell_type": "code",
   "execution_count": 11,
   "metadata": {},
   "outputs": [
    {
     "name": "stdout",
     "output_type": "stream",
     "text": [
      "[1 2 3 4]\n",
      "[[ 0.81971345  0.20156228  0.94911614  0.39725815  0.05228855]\n",
      " [ 0.82030957  0.46747943  0.47154835  0.25432763  0.38801827]\n",
      " [ 0.37566411  0.55502573  0.17190759  0.75482344  0.82576964]\n",
      " [ 0.22053465  0.14385348  0.80623656  0.50819365  0.29851977]\n",
      " [ 0.70287789  0.05090005  0.60044159  0.68926768  0.71067444]]\n"
     ]
    }
   ],
   "source": [
    "print myVector\n",
    "print myMatrix"
   ]
  },
  {
   "cell_type": "code",
   "execution_count": 14,
   "metadata": {},
   "outputs": [
    {
     "data": {
      "text/plain": [
       "matrix([[ 1.,  0.],\n",
       "        [ 0.,  1.]])"
      ]
     },
     "execution_count": 14,
     "metadata": {},
     "output_type": "execute_result"
    }
   ],
   "source": [
    "# Create a 2X2 identity matrix\n",
    "np.eye(3, k=1)        \n",
    "\n",
    "# Create a 2x2 identity matrix\n",
    "np.mat(np.identity(2))         \n",
    "\n"
   ]
  },
  {
   "cell_type": "code",
   "execution_count": null,
   "metadata": {},
   "outputs": [],
   "source": []
  }
 ],
 "metadata": {
  "kernelspec": {
   "display_name": "Python 2",
   "language": "python",
   "name": "python2"
  },
  "language_info": {
   "codemirror_mode": {
    "name": "ipython",
    "version": 2
   },
   "file_extension": ".py",
   "mimetype": "text/x-python",
   "name": "python",
   "nbconvert_exporter": "python",
   "pygments_lexer": "ipython2",
   "version": "2.7.14"
  }
 },
 "nbformat": 4,
 "nbformat_minor": 2
}
