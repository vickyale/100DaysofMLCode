{
 "cells": [
  {
   "cell_type": "code",
   "execution_count": 3,
   "metadata": {},
   "outputs": [],
   "source": [
    "import sympy as sympy\n",
    "import numpy as np\n",
    "import matplotlib.pyplot as plt\n",
    "from scipy import *"
   ]
  },
  {
   "cell_type": "code",
   "execution_count": 4,
   "metadata": {},
   "outputs": [
    {
     "name": "stdout",
     "output_type": "stream",
     "text": [
      "[5 0 0]\n"
     ]
    }
   ],
   "source": [
    "x_vector = np.array([5,0,0])\n",
    "print x_vector"
   ]
  },
  {
   "cell_type": "code",
   "execution_count": 5,
   "metadata": {},
   "outputs": [
    {
     "name": "stdout",
     "output_type": "stream",
     "text": [
      "The list: [1, 2]\n",
      "Has length: 2\n",
      "The vector: [1 2]\n",
      "Has shape: (2L,)\n"
     ]
    }
   ],
   "source": [
    "c_list = [1,2]\n",
    "print \"The list:\",c_list\n",
    "print \"Has length:\", len(c_list)\n",
    "\n",
    "c_vector = np.array(c_list)\n",
    "print \"The vector:\", c_vector\n",
    "print \"Has shape:\",c_vector.shape"
   ]
  },
  {
   "cell_type": "code",
   "execution_count": 6,
   "metadata": {},
   "outputs": [
    {
     "name": "stdout",
     "output_type": "stream",
     "text": [
      "This is a list, not an array: [5, 6]\n",
      "<type 'list'>\n"
     ]
    }
   ],
   "source": [
    "z = [5,6]\n",
    "print \"This is a list, not an array:\",z\n",
    "print type(z)"
   ]
  },
  {
   "cell_type": "code",
   "execution_count": 7,
   "metadata": {},
   "outputs": [
    {
     "name": "stdout",
     "output_type": "stream",
     "text": [
      "This is an array, not a list [5 6]\n",
      "<type 'numpy.ndarray'>\n"
     ]
    }
   ],
   "source": [
    "zarray = np.array(z)\n",
    "print \"This is an array, not a list\",zarray\n",
    "print type(zarray)"
   ]
  },
  {
   "cell_type": "code",
   "execution_count": 9,
   "metadata": {},
   "outputs": [
    {
     "name": "stdout",
     "output_type": "stream",
     "text": [
      "[(5, 1), (6, 2)]\n",
      "Note that the length of our zipped list is 2 not (2 by 2)\n"
     ]
    }
   ],
   "source": [
    "#Matrices\n",
    "\n",
    "b = zip(z,c_vector)\n",
    "print b\n",
    "print \"Note that the length of our zipped list is 2 not (2 by 2)\""
   ]
  },
  {
   "cell_type": "code",
   "execution_count": 10,
   "metadata": {},
   "outputs": [
    {
     "name": "stdout",
     "output_type": "stream",
     "text": [
      "But we can convert the list to a matrix like this:\n",
      "[[5 1]\n",
      " [6 2]]\n",
      "<type 'numpy.ndarray'>\n",
      "A has shape: (2L, 2L)\n"
     ]
    }
   ],
   "source": [
    "print \"But we can convert the list to a matrix like this:\"\n",
    "A = np.array(b)\n",
    "print A\n",
    "print type(A)\n",
    "print \"A has shape:\",A.shape"
   ]
  },
  {
   "cell_type": "code",
   "execution_count": 11,
   "metadata": {},
   "outputs": [
    {
     "name": "stdout",
     "output_type": "stream",
     "text": [
      "[[8 4]\n",
      " [9 5]]\n"
     ]
    }
   ],
   "source": [
    "##Matrix Addition and Subtraction\n",
    "result = A + 3\n",
    "#or\n",
    "result = 3 + A\n",
    "print result"
   ]
  },
  {
   "cell_type": "code",
   "execution_count": 12,
   "metadata": {},
   "outputs": [
    {
     "name": "stdout",
     "output_type": "stream",
     "text": [
      "[[ 0.38657686  0.8254389 ]\n",
      " [-2.30137514  0.61041283]]\n"
     ]
    }
   ],
   "source": [
    "B = np.random.randn(2,2)\n",
    "print B"
   ]
  },
  {
   "cell_type": "code",
   "execution_count": 13,
   "metadata": {},
   "outputs": [
    {
     "data": {
      "text/plain": [
       "array([[5.38657686, 1.8254389 ],\n",
       "       [3.69862486, 2.61041283]])"
      ]
     },
     "execution_count": 13,
     "metadata": {},
     "output_type": "execute_result"
    }
   ],
   "source": [
    "result = A + B\n",
    "result"
   ]
  },
  {
   "cell_type": "code",
   "execution_count": 14,
   "metadata": {},
   "outputs": [
    {
     "data": {
      "text/plain": [
       "array([[4.61342314, 0.1745611 ],\n",
       "       [8.30137514, 1.38958717]])"
      ]
     },
     "execution_count": 14,
     "metadata": {},
     "output_type": "execute_result"
    }
   ],
   "source": [
    "result = A - B\n",
    "result"
   ]
  },
  {
   "cell_type": "code",
   "execution_count": null,
   "metadata": {},
   "outputs": [],
   "source": []
  }
 ],
 "metadata": {
  "kernelspec": {
   "display_name": "Python 2",
   "language": "python",
   "name": "python2"
  },
  "language_info": {
   "codemirror_mode": {
    "name": "ipython",
    "version": 2
   },
   "file_extension": ".py",
   "mimetype": "text/x-python",
   "name": "python",
   "nbconvert_exporter": "python",
   "pygments_lexer": "ipython2",
   "version": "2.7.15"
  }
 },
 "nbformat": 4,
 "nbformat_minor": 2
}
