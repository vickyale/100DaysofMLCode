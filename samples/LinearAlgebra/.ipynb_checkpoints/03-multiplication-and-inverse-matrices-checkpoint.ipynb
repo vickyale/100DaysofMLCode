{
 "cells": [
  {
   "cell_type": "code",
   "execution_count": 11,
   "metadata": {},
   "outputs": [],
   "source": [
    "import sympy as sympy\n",
    "import numpy as np\n",
    "import matplotlib.pyplot as plt\n",
    "from scipy import *"
   ]
  },
  {
   "cell_type": "code",
   "execution_count": 12,
   "metadata": {},
   "outputs": [
    {
     "name": "stdout",
     "output_type": "stream",
     "text": [
      "[5 0 0]\n"
     ]
    }
   ],
   "source": [
    "x_vector = np.array([5,0,0])\n",
    "print x_vector"
   ]
  },
  {
   "cell_type": "code",
   "execution_count": 13,
   "metadata": {},
   "outputs": [
    {
     "name": "stdout",
     "output_type": "stream",
     "text": [
      "The list: [1, 2]\n",
      "Has length: 2\n",
      "The vector: [1 2]\n",
      "Has shape: (2L,)\n"
     ]
    }
   ],
   "source": [
    "c_list = [1,2]\n",
    "print \"The list:\",c_list\n",
    "print \"Has length:\", len(c_list)\n",
    "\n",
    "c_vector = np.array(c_list)\n",
    "print \"The vector:\", c_vector\n",
    "print \"Has shape:\",c_vector.shape"
   ]
  },
  {
   "cell_type": "code",
   "execution_count": null,
   "metadata": {},
   "outputs": [],
   "source": []
  },
  {
   "cell_type": "code",
   "execution_count": null,
   "metadata": {},
   "outputs": [],
   "source": []
  },
  {
   "cell_type": "code",
   "execution_count": 14,
   "metadata": {},
   "outputs": [
    {
     "name": "stdout",
     "output_type": "stream",
     "text": [
      "[(5, 1), (6, 2)]\n",
      "Note that the length of our zipped list is 2 not (2 by 2)\n"
     ]
    }
   ],
   "source": [
    "#Matrices\n",
    "\n",
    "b = zip(z,c_vector)\n",
    "print b\n",
    "print \"Note that the length of our zipped list is 2 not (2 by 2)\""
   ]
  },
  {
   "cell_type": "code",
   "execution_count": 15,
   "metadata": {},
   "outputs": [
    {
     "name": "stdout",
     "output_type": "stream",
     "text": [
      "But we can convert the list to a matrix like this:\n",
      "[[5 1]\n",
      " [6 2]]\n",
      "<type 'numpy.ndarray'>\n",
      "A has shape: (2L, 2L)\n"
     ]
    }
   ],
   "source": [
    "print \"But we can convert the list to a matrix like this:\"\n",
    "A = np.array(b)\n",
    "print A\n",
    "print type(A)\n",
    "print \"A has shape:\",A.shape"
   ]
  },
  {
   "cell_type": "code",
   "execution_count": 16,
   "metadata": {},
   "outputs": [
    {
     "name": "stdout",
     "output_type": "stream",
     "text": [
      "[[-2.08395676  1.22678225]\n",
      " [ 0.43884417 -1.28907994]]\n"
     ]
    }
   ],
   "source": [
    "B = np.random.randn(2,2)\n",
    "print B"
   ]
  },
  {
   "cell_type": "code",
   "execution_count": null,
   "metadata": {},
   "outputs": [],
   "source": [
    "##Matrix Multiplication"
   ]
  },
  {
   "cell_type": "code",
   "execution_count": 18,
   "metadata": {},
   "outputs": [
    {
     "data": {
      "text/plain": [
       "array([[15,  3],\n",
       "       [18,  6]])"
      ]
     },
     "execution_count": 18,
     "metadata": {},
     "output_type": "execute_result"
    }
   ],
   "source": [
    "A * 3"
   ]
  },
  {
   "cell_type": "code",
   "execution_count": 19,
   "metadata": {},
   "outputs": [],
   "source": [
    "##Multiplication two Matrices"
   ]
  },
  {
   "cell_type": "code",
   "execution_count": 20,
   "metadata": {},
   "outputs": [
    {
     "name": "stdout",
     "output_type": "stream",
     "text": [
      "(3L, 2L)\n",
      "(2L, 2L)\n"
     ]
    }
   ],
   "source": [
    "# Redefiniendo A y C ,multiplicando AxC\n",
    "A = np.arange(6).reshape((3,2))\n",
    "C = np.random.randn(2,2)\n",
    "\n",
    "print A.shape\n",
    "print C.shape"
   ]
  },
  {
   "cell_type": "code",
   "execution_count": 23,
   "metadata": {},
   "outputs": [
    {
     "name": "stdout",
     "output_type": "stream",
     "text": [
      "[[ -1.65009392   0.58785293]\n",
      " [ -6.5347344   -0.57477231]\n",
      " [-11.41937487  -1.73739755]]\n",
      "[[ -1.65009392   0.58785293]\n",
      " [ -6.5347344   -0.57477231]\n",
      " [-11.41937487  -1.73739755]]\n"
     ]
    }
   ],
   "source": [
    "print A.dot(C)\n",
    "print np.dot(A,C)"
   ]
  },
  {
   "cell_type": "code",
   "execution_count": 27,
   "metadata": {},
   "outputs": [
    {
     "name": "stdout",
     "output_type": "stream",
     "text": [
      "[[-0.79222632 -1.16916555]\n",
      " [-1.65009392  0.58785293]]\n"
     ]
    }
   ],
   "source": [
    "##Inverse\n",
    "print C"
   ]
  },
  {
   "cell_type": "code",
   "execution_count": 28,
   "metadata": {},
   "outputs": [
    {
     "name": "stdout",
     "output_type": "stream",
     "text": [
      "[[-0.24545566 -0.48818044]\n",
      " [-0.68899017  0.33079096]]\n"
     ]
    }
   ],
   "source": [
    "C_inverse = np.linalg.inv(C)\n",
    "print C_inverse"
   ]
  },
  {
   "cell_type": "code",
   "execution_count": 29,
   "metadata": {},
   "outputs": [
    {
     "name": "stdout",
     "output_type": "stream",
     "text": [
      "[[ 1.00000000e+00  0.00000000e+00]\n",
      " [-5.55111512e-17  1.00000000e+00]]\n",
      "Is identical to:\n",
      "[[1.00000000e+00 0.00000000e+00]\n",
      " [1.11022302e-16 1.00000000e+00]]\n"
     ]
    }
   ],
   "source": [
    "print C.dot(C_inverse)\n",
    "print \"Is identical to:\"\n",
    "print C_inverse.dot(C)"
   ]
  },
  {
   "cell_type": "code",
   "execution_count": null,
   "metadata": {},
   "outputs": [],
   "source": []
  }
 ],
 "metadata": {
  "kernelspec": {
   "display_name": "Python 2",
   "language": "python",
   "name": "python2"
  },
  "language_info": {
   "codemirror_mode": {
    "name": "ipython",
    "version": 2
   },
   "file_extension": ".py",
   "mimetype": "text/x-python",
   "name": "python",
   "nbconvert_exporter": "python",
   "pygments_lexer": "ipython2",
   "version": "2.7.15"
  }
 },
 "nbformat": 4,
 "nbformat_minor": 2
}
