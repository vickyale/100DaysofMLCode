{
 "cells": [
  {
   "cell_type": "code",
   "execution_count": 2,
   "metadata": {},
   "outputs": [],
   "source": [
    "import sympy as sympy\n",
    "import numpy as np\n",
    "import matplotlib.pyplot as plt\n",
    "from scipy import *\n"
   ]
  },
  {
   "cell_type": "code",
   "execution_count": 3,
   "metadata": {},
   "outputs": [
    {
     "name": "stdout",
     "output_type": "stream",
     "text": [
      "[1 2 0]\n"
     ]
    }
   ],
   "source": [
    "x_vector = np.array([1,2,0])\n",
    "print x_vector"
   ]
  },
  {
   "cell_type": "code",
   "execution_count": 6,
   "metadata": {},
   "outputs": [],
   "source": [
    "x1 = [1,2,0]\n",
    "x2 = [1,0,0]\n",
    "x3= [3,0,1]"
   ]
  },
  {
   "cell_type": "code",
   "execution_count": 9,
   "metadata": {},
   "outputs": [],
   "source": [
    "x1_vector = np.array(x1)\n",
    "x2_vector = np.array(x2)\n",
    "x3_vector = np.array(x3)"
   ]
  },
  {
   "cell_type": "code",
   "execution_count": 10,
   "metadata": {},
   "outputs": [],
   "source": [
    "b = zip(x1,x2,x3)"
   ]
  },
  {
   "cell_type": "code",
   "execution_count": 12,
   "metadata": {},
   "outputs": [
    {
     "name": "stdout",
     "output_type": "stream",
     "text": [
      "[[1 1 3]\n",
      " [2 0 0]\n",
      " [0 0 1]]\n"
     ]
    }
   ],
   "source": [
    "y1 = [1,0,0]\n",
    "y2 = [0,1,-5]\n",
    "y3 = [0,0,1]\n",
    "\n",
    "y1_vector = np.array(y1)\n",
    "y2_vector = np.array(y2)\n",
    "y3_vector = np.array(y3)\n",
    "\n",
    "j = zip(y1,y2,y3)\n",
    "A = np.array(j)\n",
    "print A\n"
   ]
  },
  {
   "cell_type": "code",
   "execution_count": 18,
   "metadata": {},
   "outputs": [
    {
     "name": "stdout",
     "output_type": "stream",
     "text": [
      "[[ 1  0  0]\n",
      " [ 0  1  0]\n",
      " [ 0 -5  1]]\n"
     ]
    }
   ],
   "source": [
    "y1 = [1,0,0]\n",
    "y2 = [0,1,-5]\n",
    "y3 = [0,0,1]\n",
    "\n",
    "y1_vector = np.array(y1)\n",
    "y2_vector = np.array(y2)\n",
    "y3_vector = np.array(y3)\n",
    "\n",
    "j = zip(y1,y2,y3)\n",
    "B = np.array(j)\n",
    "print B\n"
   ]
  },
  {
   "cell_type": "code",
   "execution_count": 19,
   "metadata": {},
   "outputs": [
    {
     "name": "stdout",
     "output_type": "stream",
     "text": [
      "[[1 1 3]\n",
      " [2 0 0]\n",
      " [0 0 1]]\n"
     ]
    }
   ],
   "source": [
    "y1 = [1,0,0]\n",
    "y2 = [0,1,0]\n",
    "y3 = [0,-5,1]\n",
    "\n",
    "y1_vector = np.array(y1)\n",
    "y2_vector = np.array(y2)\n",
    "y3_vector = np.array(y3)\n",
    "\n",
    "j = zip(x1,x2,x3)\n",
    "B = np.array(j)\n",
    "print B"
   ]
  },
  {
   "cell_type": "code",
   "execution_count": null,
   "metadata": {},
   "outputs": [],
   "source": []
  }
 ],
 "metadata": {
  "kernelspec": {
   "display_name": "Python 2",
   "language": "python",
   "name": "python2"
  },
  "language_info": {
   "codemirror_mode": {
    "name": "ipython",
    "version": 2
   },
   "file_extension": ".py",
   "mimetype": "text/x-python",
   "name": "python",
   "nbconvert_exporter": "python",
   "pygments_lexer": "ipython2",
   "version": "2.7.15"
  }
 },
 "nbformat": 4,
 "nbformat_minor": 2
}
