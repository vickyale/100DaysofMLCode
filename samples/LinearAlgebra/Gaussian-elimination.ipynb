{
 "cells": [
  {
   "cell_type": "markdown",
   "metadata": {},
   "source": [
    "# Gaussian elimination\n",
    "\n",
    "This Julia notebook allows us to interactively visualize the process of Gaussian elimination.\n",
    "\n",
    "Recall that the process of [Gaussian elimination](https://en.wikipedia.org/wiki/Gaussian_elimination) involves subtracting rows to turn a matrix $A$ into an [upper triangular matrix](https://en.wikipedia.org/wiki/Triangular_matrix) $U$.  Often we *augment* the matrix with an additional column, representing the right-hand side $b$ of a system of equations $Ax=b$ that we want to solve: by doing the same row operations to both $A$ and $b$, we arrive at an equivalent equation $Ux=c$ that is easy to solve by *backsubstitution* (solving for one variable at a time, working from the last row to the top row).\n",
    "\n",
    "For example, suppose we are solving:\n",
    "\n",
    "$$\n",
    "Ax = \n",
    "\\begin{pmatrix}\n",
    "1 & 3 & 1  \\\\\n",
    "1 & 1 & -1  \\\\\n",
    "3 & 11 & 6 \n",
    "\\end{pmatrix} x = \n",
    "\\begin{pmatrix}\n",
    "9 \\\\\n",
    "1 \\\\\n",
    "35\n",
    "\\end{pmatrix} = b\n",
    "$$\n",
    "\n",
    "We would perform the following elimination process.\n",
    "\n",
    "$$\n",
    "\\left[\\begin{array}{rrr|r}\n",
    "\\boxed{1} & 3 & 1 & 9 \\\\\n",
    "1 & 1 & -1 & 1 \\\\\n",
    "3 & 11 & 6 & 35\n",
    "\\end{array}\\right]\\to\n",
    "\\left[\\begin{array}{rrr|r}\n",
    "\\boxed{1} & 3 & 1 & 9 \\\\\n",
    "0 & \\boxed{-2} & -2 & -8 \\\\\n",
    "0 & 2 & 3 & 8\n",
    "\\end{array}\\right]\\to\n",
    "\\left[\\begin{array}{rrr|r}\n",
    "\\boxed{1} & 3 & 1 & 9 \\\\\n",
    "0 & \\boxed{-2} & -2 & -8 \\\\\n",
    "0 & 0 & \\boxed{1} & 0\n",
    "\\end{array}\\right]\n",
    "$$\n",
    "\n",
    "The boxed values are known as the **pivots**.  Now we do **backsubstitution**, working from the bottom up.  The last row is a single equation in a single unknown:\n",
    "\n",
    "$$\n",
    "1 x_3 = 0 \\implies x_3 = 0 .\n",
    "$$\n",
    "\n",
    "Now that we know $x_3$, the second row gives:\n",
    "\n",
    "$$\n",
    "-2x_2 - 2x_3 = -8 \\implies -2x_2 - 0 = -8 \\implies x_2 = 4 .\n",
    "$$\n",
    "\n",
    "Finally, now that we know $x_2$ and $x_3$, the first row gives:\n",
    "\n",
    "$$\n",
    "1 x_1 + 3 x_2 + 1x_3 = 9 \\implies x_1 + 12 + 0 = 9 \\implies x_1 = -3.\n",
    "$$\n",
    "\n",
    "It is much more fun to let the computer do the arithmetic than to crunch through it ourselves on the blackboard, but usually the computer does things *too* quickly (and it often does some re-ordering of the rows that makes it harder to follow what is going on).  For example, in Julia, we can solve the above system of equations by simply:"
   ]
  },
  {
   "cell_type": "code",
   "execution_count": 32,
   "metadata": {},
   "outputs": [
    {
     "data": {
      "text/plain": [
       "3×3 Array{Int64,2}:\n",
       " 1   3   1\n",
       " 1   1  -1\n",
       " 3  11   6"
      ]
     },
     "execution_count": 32,
     "metadata": {},
     "output_type": "execute_result"
    }
   ],
   "source": [
    "A = [1 3  1\n",
    "     1 1 -1\n",
    "     3 11 6]"
   ]
  },
  {
   "cell_type": "code",
   "execution_count": 34,
   "metadata": {},
   "outputs": [
    {
     "data": {
      "text/plain": [
       "3-element Array{Int64,1}:\n",
       "  9\n",
       "  1\n",
       " 35"
      ]
     },
     "execution_count": 34,
     "metadata": {},
     "output_type": "execute_result"
    }
   ],
   "source": [
    "b = [9, 1, 35]"
   ]
  },
  {
   "cell_type": "code",
   "execution_count": 35,
   "metadata": {},
   "outputs": [
    {
     "data": {
      "text/plain": [
       "3-element Array{Float64,1}:\n",
       " -3.0\n",
       "  4.0\n",
       "  0.0"
      ]
     },
     "execution_count": 35,
     "metadata": {},
     "output_type": "execute_result"
    }
   ],
   "source": [
    "x = A \\ b # solves Ax = b by (essentially) Gaussian elimination"
   ]
  },
  {
   "cell_type": "code",
   "execution_count": 36,
   "metadata": {},
   "outputs": [
    {
     "data": {
      "text/plain": [
       "3-element Array{Float64,1}:\n",
       " -3.0\n",
       "  4.0\n",
       "  0.0"
      ]
     },
     "execution_count": 36,
     "metadata": {},
     "output_type": "execute_result"
    }
   ],
   "source": [
    "inv(A) * b"
   ]
  },
  {
   "cell_type": "markdown",
   "metadata": {},
   "source": [
    "## Row swaps\n",
    "\n",
    "Occasionally, we may encounter a zero in the pivot position.  Sometimes this means that the equations are **singular** (may have no solutions) — we will talk more about this later.  However, as long as there is a nonzero value *below* the pivot, we can fix the problem by **swapping rows** (which just corresponds to re-ordering the equations).\n",
    "\n",
    "For example:\n",
    "\n",
    "\n",
    "$$\n",
    "\\left[\\begin{array}{rrr|r}\n",
    "\\boxed{1} & 3 & 1 & 9 \\\\\n",
    "1 & 3 & -1 & 1 \\\\\n",
    "3 & 11 & 6 & 35\n",
    "\\end{array}\\right]\\to\n",
    "\\left[\\begin{array}{rrr|r}\n",
    "\\boxed{1} & 3 & 1 & 9 \\\\\n",
    "0 & 0 & -2 & -8 \\\\\n",
    "0 & 2 & 3 & 8\n",
    "\\end{array}\\right]\\to\n",
    "\\left[\\begin{array}{rrr|r}\n",
    "\\boxed{1} & 3 & 1 & 9 \\\\\n",
    "0 & \\boxed{2} & 3 & 8 \\\\\n",
    "0 & 0 & \\boxed{-2} & -8\n",
    "\\end{array}\\right]\n",
    "$$\n",
    "\n",
    "where in the second step we swapped the second and third rows to get a nonzero pivot in the second row.\n",
    "\n",
    "At this point we can again solve bottom-up by backsubstitution:\n",
    "\n",
    "$$\n",
    "-2x_3 = 8 \\implies x_3 = 4 \\\\\n",
    "2x_2 + 3x_3 = 8 = 2x_2 + 12 \\implies x_2 = -2 \\\\\n",
    "x_1 + 3x_2 + x_3 = 9 = x_1 -6 + 4 \\implies x_3 = 11\n",
    "$$\n",
    "\n",
    "Of course, the computer can get the answer much more quickly and easily:"
   ]
  },
  {
   "cell_type": "code",
   "execution_count": 4,
   "metadata": {},
   "outputs": [
    {
     "data": {
      "text/plain": [
       "3-element Array{Float64,1}:\n",
       " 11.0\n",
       " -2.0\n",
       "  4.0"
      ]
     },
     "execution_count": 4,
     "metadata": {},
     "output_type": "execute_result"
    }
   ],
   "source": [
    "[ 1 3  1\n",
    "  1 3 -1\n",
    "  3 11 6 ] \\\n",
    "[9\n",
    " 1\n",
    " 35]"
   ]
  },
  {
   "cell_type": "markdown",
   "metadata": {},
   "source": [
    "## “Big” matrices on the computer\n",
    "\n",
    "Of course, the computer can solve *much bigger problems* easily.  It can solve 1000 equations in 1000 unknowns in a fraction of a second — nowadays, that is no longer considered a \"big\" system of equations."
   ]
  },
  {
   "cell_type": "code",
   "execution_count": 37,
   "metadata": {},
   "outputs": [
    {
     "data": {
      "text/plain": [
       "1000×1000 Array{Float64,2}:\n",
       " 0.349516   0.589878    0.0162668  …  0.495515    0.978266   0.654377 \n",
       " 0.288263   0.643843    0.938155      0.54361     0.646049   0.0238206\n",
       " 0.878309   0.684363    0.0496688     0.798975    0.0343003  0.137445 \n",
       " 0.273003   0.0397261   0.495624      0.424869    0.398844   0.629804 \n",
       " 0.35625    0.589249    0.164888      0.0482559   0.394109   0.281339 \n",
       " 0.69011    0.488749    0.0654361  …  0.278297    0.463069   0.529765 \n",
       " 0.292413   0.337923    0.382149      0.671727    0.429036   0.905624 \n",
       " 0.88048    0.464371    0.679101      0.857365    0.308207   0.382123 \n",
       " 0.216392   0.589014    0.806283      0.899426    0.931224   0.705616 \n",
       " 0.803662   0.722718    0.322093      0.099162    0.512509   0.411455 \n",
       " 0.178327   0.325923    0.221811   …  0.907328    0.31763    0.238335 \n",
       " 0.49238    0.31784     0.915957      0.0115336   0.836926   0.972462 \n",
       " 0.19871    0.491451    0.782992      0.108611    0.502758   0.55808  \n",
       " ⋮                                 ⋱                                  \n",
       " 0.530523   0.993739    0.850922      0.821901    0.898337   0.108417 \n",
       " 0.20905    0.284068    0.975676      0.826639    0.345361   0.22347  \n",
       " 0.14762    0.0508736   0.468448   …  0.0395459   0.041465   0.745513 \n",
       " 0.0629174  0.804421    0.779201      0.839243    0.94754    0.42806  \n",
       " 0.694209   0.765976    0.775802      0.964185    0.446162   0.7683   \n",
       " 0.890694   0.503794    0.741776      0.341619    0.105176   0.615871 \n",
       " 0.778918   0.0762697   0.738941      0.103649    0.483727   0.814537 \n",
       " 0.666918   0.0256974   0.450914   …  0.00460022  0.38774    0.580774 \n",
       " 0.725307   0.893856    0.960929      0.915171    0.902957   0.787631 \n",
       " 0.942725   0.619921    0.883211      0.51665     0.180029   0.894423 \n",
       " 0.593956   0.834427    0.0121577     0.63232     0.294546   0.680597 \n",
       " 0.379193   0.00932158  0.179093      0.286107    0.698525   0.197525 "
      ]
     },
     "execution_count": 37,
     "metadata": {},
     "output_type": "execute_result"
    }
   ],
   "source": [
    "Ahuge = rand(1000,1000)"
   ]
  },
  {
   "cell_type": "code",
   "execution_count": 38,
   "metadata": {},
   "outputs": [
    {
     "data": {
      "text/plain": [
       "1000-element Array{Float64,1}:\n",
       " 0.06968 \n",
       " 0.981105\n",
       " 0.372015\n",
       " 0.357983\n",
       " 0.434052\n",
       " 0.444102\n",
       " 0.607646\n",
       " 0.33892 \n",
       " 0.242231\n",
       " 0.420682\n",
       " 0.332426\n",
       " 0.337596\n",
       " 0.908876\n",
       " ⋮       \n",
       " 0.708356\n",
       " 0.5303  \n",
       " 0.890053\n",
       " 0.77494 \n",
       " 0.684979\n",
       " 0.119927\n",
       " 0.783507\n",
       " 0.29686 \n",
       " 0.608588\n",
       " 0.576874\n",
       " 0.612603\n",
       " 0.711326"
      ]
     },
     "execution_count": 38,
     "metadata": {},
     "output_type": "execute_result"
    }
   ],
   "source": [
    "bhuge = rand(1000)"
   ]
  },
  {
   "cell_type": "code",
   "execution_count": 39,
   "metadata": {},
   "outputs": [
    {
     "data": {
      "text/plain": [
       "1000-element Array{Float64,1}:\n",
       " -0.139763 \n",
       "  3.1408   \n",
       " -0.756233 \n",
       " -2.96218  \n",
       " -1.00341  \n",
       " -1.11693  \n",
       "  1.02937  \n",
       " -1.953    \n",
       " -1.74697  \n",
       " -0.614022 \n",
       "  1.1427   \n",
       "  4.2004   \n",
       " -5.94763  \n",
       "  ⋮        \n",
       "  1.02609  \n",
       " -1.60941  \n",
       "  1.78864  \n",
       " -7.16415  \n",
       " -0.980302 \n",
       " -4.1883   \n",
       " -0.0916761\n",
       " -3.47208  \n",
       "  5.71899  \n",
       "  2.26874  \n",
       "  0.46352  \n",
       "  1.29715  "
      ]
     },
     "execution_count": 39,
     "metadata": {},
     "output_type": "execute_result"
    }
   ],
   "source": [
    "Ahuge \\ bhuge"
   ]
  },
  {
   "cell_type": "code",
   "execution_count": 40,
   "metadata": {},
   "outputs": [
    {
     "name": "stdout",
     "output_type": "stream",
     "text": [
      "  0.019196 seconds (92 allocations: 7.651 MiB)\n",
      "  0.023246 seconds (12 allocations: 7.645 MiB, 28.41% gc time)\n",
      "  0.013638 seconds (12 allocations: 7.645 MiB)\n"
     ]
    }
   ],
   "source": [
    "@time Ahuge \\ bhuge;\n",
    "@time Ahuge \\ bhuge;\n",
    "@time Ahuge \\ bhuge;"
   ]
  },
  {
   "cell_type": "markdown",
   "metadata": {},
   "source": [
    "If we want to see the matrix $U$ from above, we use the fact (covered soon in 18.06) that Gaussian elimination is really \"LU\" factorization, performed by the built-in function `lu`. By default, however, \"serious\" computer implementations of this process automatically re-order the rows to reduce the effect of roundoff errors, so we need to pass an extra option that tells Julia not to do this.  (You should *not* normally do this, except for learning exercises.)"
   ]
  },
  {
   "cell_type": "code",
   "execution_count": 41,
   "metadata": {},
   "outputs": [
    {
     "data": {
      "text/plain": [
       "3×4 Array{Float64,2}:\n",
       " 1.0   3.0   1.0   9.0\n",
       " 0.0  -2.0  -2.0  -8.0\n",
       " 0.0   0.0   1.0   0.0"
      ]
     },
     "execution_count": 41,
     "metadata": {},
     "output_type": "execute_result"
    }
   ],
   "source": [
    "# LU factorization (Gaussian elimination) of the augumented matrix [A b], \n",
    "# passing the undocumented option Val{false} to prevent row re-ordering\n",
    "L, U = lu([A b], Val{false}) \n",
    "U # just show U"
   ]
  },
  {
   "cell_type": "markdown",
   "metadata": {},
   "source": [
    "However, it would be nice to show the individual steps of this process.  This requires some programming."
   ]
  },
  {
   "cell_type": "markdown",
   "metadata": {},
   "source": [
    "# Code to interactively visualize Gaussian elimination\n",
    "\n",
    "The following is some slightly tricky code that lets us visualize the process of Gaussian elimination in Julia.  It takes advantage of the [Interact](https://github.com/JuliaGizmos/Interact.jl) package in Julia, which allows us to easily create interactive displays using sliders, pushbuttons, and other widgets.\n",
    "\n",
    "Implementing this is **not really a beginner exercise** for new Julia programmers, though it is fairly straightforward for people who are used to Julia.  It involves defining our own type to control display, our own implementation of Gaussian elimination that allows us to stop partway through, and using the Interact package to create interactive widgets.\n",
    "\n",
    "You can skip this part if you aren't ready for the programming details."
   ]
  },
  {
   "cell_type": "code",
   "execution_count": 42,
   "metadata": {},
   "outputs": [
    {
     "data": {
      "text/plain": [
       "naive_gauss"
      ]
     },
     "execution_count": 42,
     "metadata": {},
     "output_type": "execute_result"
    }
   ],
   "source": [
    "\"\"\"\n",
    "TwoMatrices is just a wrapper type around two matrices or vectors with the same\n",
    "number of rows, so that they can be displayed side-by-side with a title and\n",
    "and arrow pointing from left to right.\n",
    "\"\"\"\n",
    "type TwoMatrices\n",
    "    left::AbstractVecOrMat\n",
    "    right::AbstractVecOrMat\n",
    "    title::AbstractString\n",
    "    function TwoMatrices(left, right, title=\"\")\n",
    "        size(left,1) == size(right,1) || throw(DimensionMismatch(\"two matrices must have same # rows\"))\n",
    "        return new(left, right, title)\n",
    "    end\n",
    "end\n",
    "function Base.show(io::IO, ::MIME\"text/plain\", x::TwoMatrices)\n",
    "    isempty(x.title) || println(io, x.title)\n",
    "    m = size(x.left, 1)\n",
    "    s = [Text(\" \"^10) for i in 1:m]\n",
    "    s[(m+1)÷2] = Text(\"   --->   \")\n",
    "    Base.showarray(io, [x.left s x.right], false; header=false)\n",
    "end\n",
    "\n",
    "\"\"\"\n",
    "    naive_gauss(A, [step])\n",
    "\n",
    "Given a matrix `A`, performs Gaussian elimination to convert\n",
    "`A` into an upper-triangular matrix `U`.\n",
    "\n",
    "This implementation is \"naive\" because it *never re-orders the rows*.\n",
    "(It will obviously fail if a zero pivot is encountered.)\n",
    "\n",
    "If the optional `step` argument is supplied, only performs `step`\n",
    "steps of Gaussian elimination.\n",
    "\n",
    "Returns `(U, row, col, factor)`, where `row` and `col` are the\n",
    "row and column of the last step performed, while `factor`\n",
    "is the last factor multiplying the pivot row.\n",
    "\"\"\"\n",
    "function naive_gauss(A, step=typemax(Int))\n",
    "    m = size(A,1) # number of rows\n",
    "    factor = A[1,1]/A[1,1]\n",
    "    step ≤ 0 && return (A, 1, 1, factor)\n",
    "    U = copy!(similar(A, typeof(factor)), A)\n",
    "    for j = 1:m   # loop over m columns\n",
    "        for i = j+1:m   # loop over rows below the pivot row j\n",
    "            # subtract a multiple of the pivot row (j)\n",
    "            # from the current row (i) to cancel U[i,j] = Uᵢⱼ:\n",
    "            factor = -U[i,j]/U[j,j]\n",
    "            U[i,:] = U[i,:] + U[j,:] * factor\n",
    "            step -= 1\n",
    "            step ≤ 0 && return (U, i, j, factor)\n",
    "        end\n",
    "    end\n",
    "    return U, m, m, factor\n",
    "end"
   ]
  },
  {
   "cell_type": "code",
   "execution_count": 45,
   "metadata": {},
   "outputs": [
    {
     "data": {
      "text/html": [
       "<div id=\"interact-js-shim\">\n",
       "    <script charset=\"utf-8\">\n",
       "(function (IPython, $, _, MathJax) {\n",
       "    $.event.special.destroyed = {\n",
       "\tremove: function(o) {\n",
       "\t    if (o.handler) {\n",
       "\t\to.handler.apply(this, arguments)\n",
       "\t    }\n",
       "\t}\n",
       "    }\n",
       "\n",
       "    var OutputArea = IPython.version >= \"4.0.0\" ? require(\"notebook/js/outputarea\").OutputArea : IPython.OutputArea;\n",
       "\n",
       "    var redrawValue = function (container, type, val) {\n",
       "\tvar selector = $(\"<div/>\");\n",
       "\tvar oa = new OutputArea(_.extend(selector, {\n",
       "\t    selector: selector,\n",
       "\t    prompt_area: true,\n",
       "\t    events: IPython.events,\n",
       "\t    keyboard_manager: IPython.keyboard_manager\n",
       "\t})); // Hack to work with IPython 2.1.0\n",
       "\n",
       "\tswitch (type) {\n",
       "\tcase \"image/png\":\n",
       "            var _src = 'data:' + type + ';base64,' + val;\n",
       "\t    $(container).find(\"img\").attr('src', _src);\n",
       "\t    break;\n",
       "\tcase \"text/latex\":\n",
       "\t\tif (MathJax){\n",
       "\t\t\tvar math = MathJax.Hub.getAllJax(container)[0];\n",
       "\t\t\tMathJax.Hub.Queue([\"Text\", math, val.replace(/^\\${1,2}|\\${1,2}$/g, '')]);\n",
       "\t\t\tbreak;\n",
       "\t\t}\n",
       "\tdefault:\n",
       "\t    var toinsert = OutputArea.append_map[type].apply(\n",
       "\t\toa, [val, {}, selector]\n",
       "\t    );\n",
       "\t    $(container).empty().append(toinsert.contents());\n",
       "\t    selector.remove();\n",
       "\t}\n",
       "    }\n",
       "\n",
       "\n",
       "    $(document).ready(function() {\n",
       "\tfunction initComm(evt, data) {\n",
       "\t    var comm_manager = data.kernel.comm_manager;\n",
       "        //_.extend(comm_manager.targets, require(\"widgets/js/widget\"))\n",
       "\t    comm_manager.register_target(\"Signal\", function (comm) {\n",
       "            comm.on_msg(function (msg) {\n",
       "                var val = msg.content.data.value;\n",
       "                $(\".signal-\" + comm.comm_id).each(function() {\n",
       "                var type = $(this).data(\"type\");\n",
       "                if (typeof(val[type]) !== \"undefined\" && val[type] !== null) {\n",
       "                    redrawValue(this, type, val[type], type);\n",
       "                }\n",
       "                });\n",
       "                delete val;\n",
       "                delete msg.content.data.value;\n",
       "            });\n",
       "\t    });\n",
       "\n",
       "\t    // coordingate with Comm and redraw Signals\n",
       "\t    // XXX: Test using Reactive here to improve performance\n",
       "\t    $([IPython.events]).on(\n",
       "\t\t'output_appended.OutputArea', function (event, type, value, md, toinsert) {\n",
       "\t\t    if (md && md.reactive) {\n",
       "                // console.log(md.comm_id);\n",
       "                toinsert.addClass(\"signal-\" + md.comm_id);\n",
       "                toinsert.data(\"type\", type);\n",
       "                // Signal back indicating the mimetype required\n",
       "                var comm_manager = IPython.notebook.kernel.comm_manager;\n",
       "                var comm = comm_manager.comms[md.comm_id];\n",
       "                comm.then(function (c) {\n",
       "                    c.send({action: \"subscribe_mime\",\n",
       "                       mime: type});\n",
       "                    toinsert.bind(\"destroyed\", function() {\n",
       "                        c.send({action: \"unsubscribe_mime\",\n",
       "                               mime: type});\n",
       "                    });\n",
       "                })\n",
       "\t\t    }\n",
       "\t    });\n",
       "\t}\n",
       "\n",
       "\ttry {\n",
       "\t    // try to initialize right away. otherwise, wait on the status_started event.\n",
       "\t    initComm(undefined, IPython.notebook);\n",
       "\t} catch (e) {\n",
       "\t    $([IPython.events]).on('kernel_created.Kernel kernel_created.Session', initComm);\n",
       "\t}\n",
       "    });\n",
       "})(IPython, jQuery, _, MathJax);\n",
       "</script>\n",
       "    <script>\n",
       "        window.interactLoadedFlag = true\n",
       "       $(\"#interact-js-shim\").bind(\"destroyed\", function () {\n",
       "           if (window.interactLoadedFlag) {\n",
       "               console.warn(\"JavaScript required by Interact will be removed if you remove this cell or run using Interact more than once.\")\n",
       "           }\n",
       "       })\n",
       "       $([IPython.events]).on(\"kernel_starting.Kernel kernel_restarting.Kernel\", function () { window.interactLoadedFlag = false })\n",
       "   </script>\n",
       "</div>"
      ]
     },
     "metadata": {},
     "output_type": "display_data"
    },
    {
     "data": {
      "text/plain": [
       "visualize_gauss (generic function with 1 method)"
      ]
     },
     "execution_count": 45,
     "metadata": {},
     "output_type": "execute_result"
    }
   ],
   "source": [
    "using Interact\n",
    "\n",
    "# For display, I only want to show 3 decimal places of floating-point values,\n",
    "# but I want to show integers and similar types exactly, so I define a little\n",
    "# function to do this rounding\n",
    "shorten(x::AbstractFloat) = round(x, 3)\n",
    "shorten(x) = x # leave non floating-point values as-is\n",
    "\n",
    "# create an interactive widget to visualize the Gaussian-elimination process for the matrix A.\n",
    "function visualize_gauss(A)\n",
    "    m = size(A, 1)\n",
    "    @manipulate for step in slider(1:(m*(m-1))÷2, value=1, label=\"gauss step\")\n",
    "        Uprev, = naive_gauss(A, step-1)\n",
    "        U, row, col, factor = naive_gauss(A, step)\n",
    "        pivot = U[col,col]\n",
    "        TwoMatrices(shorten.(Uprev), shorten.(U), \"Gaussian elimination for column $col with pivot $pivot: add $(shorten(factor)) * (row $col) to (row $row)\")\n",
    "    end\n",
    "end"
   ]
  },
  {
   "cell_type": "markdown",
   "metadata": {},
   "source": [
    "# Gaussian elimination examples\n",
    "\n",
    "Now, let's use this machinery to interact with some examples, starting with our $3 \\times 3$ matrix from above:"
   ]
  },
  {
   "cell_type": "code",
   "execution_count": 46,
   "metadata": {},
   "outputs": [
    {
     "data": {
      "application/vnd.jupyter.widget-view+json": {
       "model_id": "e46cf70c-540b-4e43-89b2-82ba0e8175b7",
       "version_major": 2,
       "version_minor": 0
      }
     },
     "metadata": {},
     "output_type": "display_data"
    },
    {
     "data": {
      "text/html": [],
      "text/plain": [
       "Interact.Slider{Int64}(1: \"input\" = 1 Int64 , \"gauss step\", 1, 1:3, \"horizontal\", true, \"d\", true)"
      ]
     },
     "metadata": {},
     "output_type": "display_data"
    },
    {
     "data": {
      "text/plain": [
       "Gaussian elimination for column 1 with pivot 1.0: add -1.0 * (row 1) to (row 2)\n",
       " 1   3   1   9              1.0   3.0   1.0   9.0\n",
       " 1   1  -1   1     --->     0.0  -2.0  -2.0  -8.0\n",
       " 3  11   6  35              3.0  11.0   6.0  35.0"
      ]
     },
     "execution_count": 46,
     "metadata": {
      "comm_id": "bd256669-97ba-4c96-937b-3e030d8714cc",
      "reactive": true
     },
     "output_type": "execute_result"
    }
   ],
   "source": [
    "visualize_gauss([A b])"
   ]
  },
  {
   "cell_type": "code",
   "execution_count": 48,
   "metadata": {},
   "outputs": [
    {
     "data": {
      "application/vnd.jupyter.widget-view+json": {
       "model_id": "51629c90-6524-43c9-97f4-eec43074ebf9",
       "version_major": 2,
       "version_minor": 0
      }
     },
     "metadata": {},
     "output_type": "display_data"
    },
    {
     "data": {
      "text/html": [],
      "text/plain": [
       "Interact.Slider{Int64}(9: \"input-3\" = 1 Int64 , \"gauss step\", 1, 1:10, \"horizontal\", true, \"d\", true)"
      ]
     },
     "metadata": {},
     "output_type": "display_data"
    },
    {
     "data": {
      "text/plain": [
       "Gaussian elimination for column 1 with pivot 9.0: add -0.667 * (row 1) to (row 2)\n",
       "  9  -6  -5   1   4               9.0  -6.0  -5.0     1.0     4.0  \n",
       "  6  -5  -5  -4   8               0.0  -1.0  -1.667  -4.667   5.333\n",
       "  1  -2  -2   5   5     --->      1.0  -2.0  -2.0     5.0     5.0  \n",
       " -7  -4   9  -9  -2              -7.0  -4.0   9.0    -9.0    -2.0  \n",
       "  3   8   9   6   4               3.0   8.0   9.0     6.0     4.0  "
      ]
     },
     "execution_count": 48,
     "metadata": {
      "comm_id": "36c0e9d2-6fea-4b75-9df3-c82462819837",
      "reactive": true
     },
     "output_type": "execute_result"
    }
   ],
   "source": [
    "visualize_gauss(rand(-9:9,5,5))"
   ]
  },
  {
   "cell_type": "markdown",
   "metadata": {},
   "source": [
    "Of course, because we are not re-ordering the rows, this process can go horribly wrong, most obviously if a zero pivot is encountered:"
   ]
  },
  {
   "cell_type": "code",
   "execution_count": 14,
   "metadata": {},
   "outputs": [
    {
     "data": {
      "text/html": [],
      "text/plain": [
       "Interact.Slider{Int64}(9: \"input-3\" = 1 Int64 , \"gauss step\", 1, 1:10, \"horizontal\", true, \"d\", true)"
      ]
     },
     "metadata": {},
     "output_type": "display_data"
    },
    {
     "data": {
      "text/plain": [
       "Gaussian elimination for column 1 with pivot -3.0: add 1.0 * (row 1) to (row 2)\n",
       " -3   5   5   3  -7              -3.0   5.0   5.0   3.0   -7.0\n",
       "  3  -5   8  -8  -6               0.0   0.0  13.0  -5.0  -13.0\n",
       "  8   2   8   2  -8     --->      8.0   2.0   8.0   2.0   -8.0\n",
       " -6  -2   6   4  -8              -6.0  -2.0   6.0   4.0   -8.0\n",
       " -8   4  -6  -1   8              -8.0   4.0  -6.0  -1.0    8.0"
      ]
     },
     "execution_count": 14,
     "metadata": {
      "comm_id": "99246f3e-7370-403d-a255-7d59d590bef9",
      "reactive": true
     },
     "output_type": "execute_result"
    }
   ],
   "source": [
    "Abad = [-3   5   5   3  -7\n",
    "         3  -5   8  -8  -6\n",
    "         8   2   8   2  -8\n",
    "        -6  -2   6   4  -8\n",
    "        -8   4  -6  -1   8]\n",
    "visualize_gauss(Abad)"
   ]
  },
  {
   "cell_type": "markdown",
   "metadata": {},
   "source": [
    "But this matrix is not actually singular:"
   ]
  },
  {
   "cell_type": "code",
   "execution_count": 15,
   "metadata": {},
   "outputs": [
    {
     "data": {
      "text/plain": [
       "19211.999999999996"
      ]
     },
     "execution_count": 15,
     "metadata": {},
     "output_type": "execute_result"
    }
   ],
   "source": [
    "det(Abad)"
   ]
  },
  {
   "cell_type": "markdown",
   "metadata": {},
   "source": [
    "So we can fix the problem just by re-ordering the rows, e.g. swapping the first and last rows:"
   ]
  },
  {
   "cell_type": "code",
   "execution_count": 16,
   "metadata": {},
   "outputs": [
    {
     "data": {
      "text/html": [],
      "text/plain": [
       "Interact.Slider{Int64}(13: \"input-4\" = 1 Int64 , \"gauss step\", 1, 1:10, \"horizontal\", true, \"d\", true)"
      ]
     },
     "metadata": {},
     "output_type": "display_data"
    },
    {
     "data": {
      "text/plain": [
       "Gaussian elimination for column 1 with pivot -8.0: add 0.375 * (row 1) to (row 2)\n",
       " -8   4  -6  -1   8              -8.0   4.0  -6.0   -1.0     8.0\n",
       "  3  -5   8  -8  -6               0.0  -3.5   5.75  -8.375  -3.0\n",
       "  8   2   8   2  -8     --->      8.0   2.0   8.0    2.0    -8.0\n",
       " -6  -2   6   4  -8              -6.0  -2.0   6.0    4.0    -8.0\n",
       " -3   5   5   3  -7              -3.0   5.0   5.0    3.0    -7.0"
      ]
     },
     "execution_count": 16,
     "metadata": {
      "comm_id": "a6adb3dc-7e79-46e4-84db-538dcf87d9ea",
      "reactive": true
     },
     "output_type": "execute_result"
    }
   ],
   "source": [
    "Aok = [-8   4  -6  -1   8\n",
    "        3  -5   8  -8  -6\n",
    "        8   2   8   2  -8\n",
    "       -6  -2   6   4  -8\n",
    "       -3   5   5   3  -7]\n",
    "visualize_gauss(Aok)"
   ]
  },
  {
   "cell_type": "markdown",
   "metadata": {},
   "source": [
    "## A bigger example\n",
    "\n",
    "We quickly run out of space for displaying matrices as text, but we can visualize the process for larger matrices by using images, with the PyPlot package (a wrapper around the Python Matplotlib library):"
   ]
  },
  {
   "cell_type": "code",
   "execution_count": 49,
   "metadata": {},
   "outputs": [
    {
     "name": "stderr",
     "output_type": "stream",
     "text": [
      "\u001b[1m\u001b[36mINFO: \u001b[39m\u001b[22m\u001b[36mRecompiling stale cache file /Users/alanedelman/.julia/lib/v0.6/PyPlot.ji for module PyPlot.\n",
      "\u001b[39m"
     ]
    }
   ],
   "source": [
    "using PyPlot"
   ]
  },
  {
   "cell_type": "code",
   "execution_count": 50,
   "metadata": {},
   "outputs": [
    {
     "data": {
      "application/vnd.jupyter.widget-view+json": {
       "model_id": "a1d01ac0-6ca0-4cb1-aaff-bf86e4418eae",
       "version_major": 2,
       "version_minor": 0
      }
     },
     "metadata": {},
     "output_type": "display_data"
    },
    {
     "data": {
      "text/html": [],
      "text/plain": [
       "Interact.Slider{Int64}(13: \"input-4\" = 2 Int64 , \"gauss step\", 2, 0:50:4950, \"horizontal\", true, \"d\", true)"
      ]
     },
     "metadata": {},
     "output_type": "display_data"
    },
    {
     "data": {
      "image/png": "[encoded data removed]",
      "text/plain": [
       "PyPlot.Figure(PyObject <matplotlib.figure.Figure object at 0x1418721d0>)"
      ]
     },
     "execution_count": 50,
     "metadata": {
      "comm_id": "f05edf28-1b52-4f69-a4fd-60cd7ad2a5d2",
      "reactive": true
     },
     "output_type": "execute_result"
    }
   ],
   "source": [
    "m = 100\n",
    "Abig = randn(m,m)\n",
    "fig = figure()\n",
    "nsteps = (m*(m-1))÷2\n",
    "@manipulate for step in slider(0:50:nsteps, value=2, label=\"gauss step\")\n",
    "    withfig(fig) do\n",
    "        U, row, col = naive_gauss(Abig, step)\n",
    "        # I had to experiment a little to find a nice way to plot this\n",
    "        imshow(log10.(abs.(U) .+ 1), cmap=\"hot\", vmin=0, vmax=3)\n",
    "        title(\"step $step: column $col, row $row\")\n",
    "        colorbar(label=L\"\\log_{10}(|U_{i,j}| + 1)\")\n",
    "    end\n",
    "end"
   ]
  },
  {
   "cell_type": "markdown",
   "metadata": {},
   "source": [
    "Note that it takes a *lot* more steps of Gaussian elimination for a $100 \\times 100$ matrix (4950 steps) than for a $5 \\times 5$ matrix (10 steps).  Later on in 18.06, we will analyze the computational cost of Gaussian elimination and how it scales with the size of the matrix (in computer science, this is known as the [complexity](https://en.wikipedia.org/wiki/Computational_complexity_theory) of the algorithm)."
   ]
  },
  {
   "cell_type": "markdown",
   "metadata": {},
   "source": [
    "We then moved on to a [Machine Learning with Gaussian Elimination Example](http://nbviewer.jupyter.org/github/stevengj/1806/blob/master/lectures/Machine-Learning-with-Gaussian-elimination.ipynb)"
   ]
  },
  {
   "cell_type": "code",
   "execution_count": null,
   "metadata": {
    "collapsed": true
   },
   "outputs": [],
   "source": []
  }
 ],
 "metadata": {
  "anaconda-cloud": {},
  "kernelspec": {
   "display_name": "Julia 0.6.0",
   "language": "julia",
   "name": "julia-0.6"
  },
  "language_info": {
   "file_extension": ".jl",
   "mimetype": "application/julia",
   "name": "julia",
   "version": "0.6.0"
  },
  "widgets": {
   "state": {
    "294167a6-1234-43dc-aef6-951949f1fac6": {
     "views": [
      {
       "cell_index": 26
      }
     ]
    },
    "41f7367b-0ad3-43e3-bd43-c6e4a1618e8d": {
     "views": [
      {
       "cell_index": 19
      }
     ]
    },
    "6e3620ec-4915-4734-8d3a-3332fdc63970": {
     "views": [
      {
       "cell_index": 16
      }
     ]
    },
    "ce72699c-d8cc-4a03-902b-a490178223e5": {
     "views": [
      {
       "cell_index": 17
      }
     ]
    },
    "db2d9825-08d3-4028-8072-1e865d1a0c4f": {
     "views": [
      {
       "cell_index": 23
      }
     ]
    }
   },
   "version": "1.2.0"
  }
 },
 "nbformat": 4,
 "nbformat_minor": 2
}
