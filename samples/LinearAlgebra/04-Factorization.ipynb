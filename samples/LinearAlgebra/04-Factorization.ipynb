{
 "cells": [
  {
   "cell_type": "code",
   "execution_count": 17,
   "metadata": {},
   "outputs": [],
   "source": [
    "import sympy as sympy\n",
    "import numpy as np\n",
    "import matplotlib.pyplot as plt\n",
    "from scipy import *\n"
   ]
  },
  {
   "cell_type": "code",
   "execution_count": 18,
   "metadata": {},
   "outputs": [
    {
     "name": "stdout",
     "output_type": "stream",
     "text": [
      "[5 0 0]\n"
     ]
    }
   ],
   "source": [
    "x_vector = np.array([5,0,0])\n",
    "print x_vector"
   ]
  },
  {
   "cell_type": "code",
   "execution_count": 19,
   "metadata": {},
   "outputs": [
    {
     "name": "stdout",
     "output_type": "stream",
     "text": [
      "The list: [1, 2]\n",
      "Has length: 2\n",
      "The vector: [1 2]\n",
      "Has shape: (2L,)\n"
     ]
    }
   ],
   "source": [
    "c_list = [1,2]\n",
    "print \"The list:\",c_list\n",
    "print \"Has length:\", len(c_list)\n",
    "\n",
    "c_vector = np.array(c_list)\n",
    "print \"The vector:\", c_vector\n",
    "print \"Has shape:\",c_vector.shape"
   ]
  },
  {
   "cell_type": "code",
   "execution_count": 20,
   "metadata": {},
   "outputs": [],
   "source": [
    "#Matrices\n",
    "z = [5,6]\n",
    "b = zip(z,c_vector)"
   ]
  },
  {
   "cell_type": "code",
   "execution_count": null,
   "metadata": {},
   "outputs": [],
   "source": [
    "y1 = [1,1,0]\n",
    "y2 = [1,0,1]\n",
    "y3= [4,0,0]\n",
    "\n",
    "y1_vector = np.array(y1)\n",
    "y2_vector = np.array(y2)\n",
    "y3_vector = np.array(y3)\n",
    "\n",
    "j = zip(x1,x2,x3)\n",
    "B = np.array(j)\n",
    "print B"
   ]
  },
  {
   "cell_type": "code",
   "execution_count": null,
   "metadata": {},
   "outputs": [],
   "source": []
  }
 ],
 "metadata": {
  "kernelspec": {
   "display_name": "Python 2",
   "language": "python",
   "name": "python2"
  },
  "language_info": {
   "codemirror_mode": {
    "name": "ipython",
    "version": 2
   },
   "file_extension": ".py",
   "mimetype": "text/x-python",
   "name": "python",
   "nbconvert_exporter": "python",
   "pygments_lexer": "ipython2",
   "version": "2.7.15"
  }
 },
 "nbformat": 4,
 "nbformat_minor": 2
}
